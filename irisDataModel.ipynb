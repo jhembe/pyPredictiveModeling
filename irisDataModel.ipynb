{
 "cells": [
  {
   "cell_type": "markdown",
   "id": "9d7293cb-e52d-4989-a486-198238930430",
   "metadata": {},
   "source": [
    "## Step 1: Load and Explore the Dataset"
   ]
  },
  {
   "cell_type": "code",
   "execution_count": 24,
   "id": "6bf5e56a-fdd6-45bf-924b-dbd8dc0b3c44",
   "metadata": {},
   "outputs": [
    {
     "name": "stdout",
     "output_type": "stream",
     "text": [
      "   sepal_length  sepal_width  petal_length  petal_width species\n",
      "0           5.1          3.5           1.4          0.2  setosa\n",
      "1           4.9          3.0           1.4          0.2  setosa\n",
      "2           4.7          3.2           1.3          0.2  setosa\n",
      "3           4.6          3.1           1.5          0.2  setosa\n",
      "4           5.0          3.6           1.4          0.2  setosa\n"
     ]
    }
   ],
   "source": [
    "import pandas as pd\n",
    "\n",
    "# Load the Iris dataset\n",
    "iris_data = pd.read_csv('https://raw.githubusercontent.com/uiuc-cse/data-fa14/gh-pages/data/iris.csv')\n",
    "\n",
    "# Display the first few rows of the dataset\n",
    "print(iris_data.head())\n"
   ]
  },
  {
   "cell_type": "markdown",
   "id": "b1e0a363-10fb-49d3-b524-b50fe91e3417",
   "metadata": {},
   "source": [
    "## Step 2: Data Exploration"
   ]
  },
  {
   "cell_type": "code",
   "execution_count": 25,
   "id": "9cfe14f3-0b4d-492e-9eee-e1386aaecfa4",
   "metadata": {},
   "outputs": [
    {
     "name": "stdout",
     "output_type": "stream",
     "text": [
      "       sepal_length  sepal_width  petal_length  petal_width\n",
      "count    150.000000   150.000000    150.000000   150.000000\n",
      "mean       5.843333     3.054000      3.758667     1.198667\n",
      "std        0.828066     0.433594      1.764420     0.763161\n",
      "min        4.300000     2.000000      1.000000     0.100000\n",
      "25%        5.100000     2.800000      1.600000     0.300000\n",
      "50%        5.800000     3.000000      4.350000     1.300000\n",
      "75%        6.400000     3.300000      5.100000     1.800000\n",
      "max        7.900000     4.400000      6.900000     2.500000\n",
      "setosa        50\n",
      "versicolor    50\n",
      "virginica     50\n",
      "Name: species, dtype: int64\n"
     ]
    }
   ],
   "source": [
    "# Get summary statistics for numerical features\n",
    "print(iris_data.describe())\n",
    "\n",
    "# Get class distribution\n",
    "print(iris_data['species'].value_counts())\n"
   ]
  },
  {
   "cell_type": "code",
   "execution_count": null,
   "id": "b9d60fc5-3d60-4598-8a1d-5b9bd89d1bc8",
   "metadata": {},
   "outputs": [],
   "source": []
  },
  {
   "cell_type": "markdown",
   "id": "2396278c-49d2-4571-8f0a-7ff23ffd1bf0",
   "metadata": {},
   "source": [
    "## Step 3: Data Preprocessing"
   ]
  },
  {
   "cell_type": "code",
   "execution_count": 26,
   "id": "40ee36ad-2de2-45ff-8828-c51fef1bf657",
   "metadata": {},
   "outputs": [],
   "source": [
    "from sklearn.preprocessing import LabelEncoder\n",
    "\n",
    "# Encode the 'species' column\n",
    "label_encoder = LabelEncoder()\n",
    "iris_data['species'] = label_encoder.fit_transform(iris_data['species'])\n",
    "\n",
    "# Split data into features (X) and target (y)\n",
    "X = iris_data.drop('species', axis=1)\n",
    "y = iris_data['species']\n"
   ]
  },
  {
   "cell_type": "code",
   "execution_count": null,
   "id": "7b355661-02a7-4d48-9af2-5cbd33aa3e7b",
   "metadata": {},
   "outputs": [],
   "source": []
  },
  {
   "cell_type": "markdown",
   "id": "5b67ae02-b78c-4b7f-bfc2-2c244f033cba",
   "metadata": {},
   "source": [
    "## Step 4: Data Splitting"
   ]
  },
  {
   "cell_type": "code",
   "execution_count": 27,
   "id": "fe2929b9-fec1-4f98-881e-48f58d68d801",
   "metadata": {},
   "outputs": [],
   "source": [
    "from sklearn.model_selection import train_test_split\n",
    "\n",
    "X_train, X_test, y_train, y_test = train_test_split(X, y, test_size=0.2, random_state=42)\n"
   ]
  },
  {
   "cell_type": "code",
   "execution_count": null,
   "id": "bac85c0d-22bf-496a-b332-e7c94c887f5d",
   "metadata": {},
   "outputs": [],
   "source": []
  },
  {
   "cell_type": "markdown",
   "id": "5a723197-ee36-4c32-b2a6-762470d690c9",
   "metadata": {},
   "source": [
    "## Step 5: Building the Predictive Mode#"
   ]
  },
  {
   "cell_type": "code",
   "execution_count": 28,
   "id": "240c6197-ed23-4fbd-a2c8-97002852b804",
   "metadata": {},
   "outputs": [
    {
     "data": {
      "text/plain": [
       "LogisticRegression()"
      ]
     },
     "execution_count": 28,
     "metadata": {},
     "output_type": "execute_result"
    }
   ],
   "source": [
    "from sklearn.linear_model import LogisticRegression\n",
    "\n",
    "# Initialize and train the Logistic Regression model\n",
    "model = LogisticRegression()\n",
    "model.fit(X_train, y_train)\n"
   ]
  },
  {
   "cell_type": "code",
   "execution_count": null,
   "id": "5ebb69bc-1fe7-4bd4-8613-a866b3893eb2",
   "metadata": {},
   "outputs": [],
   "source": []
  },
  {
   "cell_type": "markdown",
   "id": "4506f78f-9bb6-4475-9665-75add3d85584",
   "metadata": {},
   "source": [
    "## Step 6: Model Evaluation"
   ]
  },
  {
   "cell_type": "code",
   "execution_count": 29,
   "id": "e0087736-f8be-4197-bf76-885a74374668",
   "metadata": {},
   "outputs": [
    {
     "name": "stdout",
     "output_type": "stream",
     "text": [
      "Accuracy: 1.00\n",
      "\n",
      "Classification Report:\n",
      "              precision    recall  f1-score   support\n",
      "\n",
      "           0       1.00      1.00      1.00        10\n",
      "           1       1.00      1.00      1.00         9\n",
      "           2       1.00      1.00      1.00        11\n",
      "\n",
      "    accuracy                           1.00        30\n",
      "   macro avg       1.00      1.00      1.00        30\n",
      "weighted avg       1.00      1.00      1.00        30\n",
      "\n",
      "\n",
      "Confusion Matrix:\n",
      "[[10  0  0]\n",
      " [ 0  9  0]\n",
      " [ 0  0 11]]\n"
     ]
    }
   ],
   "source": [
    "from sklearn.metrics import accuracy_score, classification_report, confusion_matrix\n",
    "\n",
    "# Make predictions on the testing set\n",
    "y_pred = model.predict(X_test)\n",
    "\n",
    "# Evaluate the model's performance\n",
    "accuracy = accuracy_score(y_test, y_pred)\n",
    "print(f'Accuracy: {accuracy:.2f}')\n",
    "\n",
    "print('\\nClassification Report:')\n",
    "print(classification_report(y_test, y_pred))\n",
    "\n",
    "confusion = confusion_matrix(y_test, y_pred)\n",
    "print('\\nConfusion Matrix:')\n",
    "print(confusion)\n"
   ]
  },
  {
   "cell_type": "code",
   "execution_count": null,
   "id": "e122698b-90ef-4afa-b15b-b750775a8b13",
   "metadata": {},
   "outputs": [],
   "source": []
  },
  {
   "cell_type": "code",
   "execution_count": null,
   "id": "2d66cc46-91a8-4d18-9552-85a098d75ec2",
   "metadata": {},
   "outputs": [],
   "source": []
  },
  {
   "cell_type": "markdown",
   "id": "4a7a8a5c-0805-48fd-b77b-2f038ce31b70",
   "metadata": {},
   "source": [
    "## Step 7: Model Deployment"
   ]
  },
  {
   "cell_type": "code",
   "execution_count": 30,
   "id": "f42012a5-5133-4a56-a6a6-6442eae74424",
   "metadata": {},
   "outputs": [
    {
     "data": {
      "text/plain": [
       "['iris_trained_model.pkl']"
      ]
     },
     "execution_count": 30,
     "metadata": {},
     "output_type": "execute_result"
    }
   ],
   "source": [
    "import joblib\n",
    "\n",
    "# Save the trained model to a file\n",
    "joblib.dump(model, 'iris_trained_model.pkl')\n"
   ]
  },
  {
   "cell_type": "code",
   "execution_count": 31,
   "id": "3a548b5f-d758-4e1a-a208-6c9c8ad783f8",
   "metadata": {},
   "outputs": [],
   "source": [
    "from sklearn.preprocessing import LabelEncoder, StandardScaler\n",
    "\n",
    "def preprocess_data(data):\n",
    "    # Create a copy of the input DataFrame to avoid modifying the original data\n",
    "    processed_data = data.copy()\n",
    "\n",
    "    # Identify categorical and numerical columns\n",
    "    categorical_columns = processed_data.select_dtypes(include=['object']).columns.tolist()\n",
    "    numerical_columns = processed_data.select_dtypes(exclude=['object']).columns.tolist()\n",
    "\n",
    "    # Encode categorical variables using label encoding\n",
    "    label_encoders = {}\n",
    "    for column in categorical_columns:\n",
    "        label_encoders[column] = LabelEncoder()\n",
    "        processed_data[column] = label_encoders[column].fit_transform(processed_data[column])\n",
    "\n",
    "    # Scale numerical features using StandardScaler\n",
    "    scaler = StandardScaler()\n",
    "    processed_data[numerical_columns] = scaler.fit_transform(processed_data[numerical_columns])\n",
    "\n",
    "    return processed_data\n"
   ]
  },
  {
   "cell_type": "code",
   "execution_count": 32,
   "id": "589b6eb1-8be0-42cd-9fc8-54b9aa3b8bec",
   "metadata": {},
   "outputs": [],
   "source": [
    "import pandas as pd\n",
    "\n",
    "# Read the new data from a CSV file\n",
    "new_data_df = pd.read_csv('irisInput.csv')  # Replace 'new_data.csv' with your new data file\n",
    "\n",
    "# Preprocess the new data using the same preprocessing functions\n",
    "new_data_processed = preprocess_data(new_data_df)\n"
   ]
  },
  {
   "cell_type": "code",
   "execution_count": 33,
   "id": "400459a9-e05d-464f-b603-f61e0302ff56",
   "metadata": {},
   "outputs": [
    {
     "data": {
      "text/html": [
       "<div>\n",
       "<style scoped>\n",
       "    .dataframe tbody tr th:only-of-type {\n",
       "        vertical-align: middle;\n",
       "    }\n",
       "\n",
       "    .dataframe tbody tr th {\n",
       "        vertical-align: top;\n",
       "    }\n",
       "\n",
       "    .dataframe thead th {\n",
       "        text-align: right;\n",
       "    }\n",
       "</style>\n",
       "<table border=\"1\" class=\"dataframe\">\n",
       "  <thead>\n",
       "    <tr style=\"text-align: right;\">\n",
       "      <th></th>\n",
       "      <th>sepal_length</th>\n",
       "      <th>sepal_width</th>\n",
       "      <th>petal_length</th>\n",
       "      <th>petal_width</th>\n",
       "    </tr>\n",
       "  </thead>\n",
       "  <tbody>\n",
       "    <tr>\n",
       "      <th>0</th>\n",
       "      <td>-0.653140</td>\n",
       "      <td>1.008104</td>\n",
       "      <td>-1.048773</td>\n",
       "      <td>-1.044551</td>\n",
       "    </tr>\n",
       "    <tr>\n",
       "      <th>1</th>\n",
       "      <td>-0.860343</td>\n",
       "      <td>-0.309305</td>\n",
       "      <td>-1.048773</td>\n",
       "      <td>-1.044551</td>\n",
       "    </tr>\n",
       "    <tr>\n",
       "      <th>2</th>\n",
       "      <td>-1.067546</td>\n",
       "      <td>0.217659</td>\n",
       "      <td>-1.096825</td>\n",
       "      <td>-1.044551</td>\n",
       "    </tr>\n",
       "    <tr>\n",
       "      <th>3</th>\n",
       "      <td>-1.171147</td>\n",
       "      <td>-0.045823</td>\n",
       "      <td>-1.000722</td>\n",
       "      <td>-1.044551</td>\n",
       "    </tr>\n",
       "    <tr>\n",
       "      <th>4</th>\n",
       "      <td>-0.756741</td>\n",
       "      <td>1.271585</td>\n",
       "      <td>-1.048773</td>\n",
       "      <td>-1.044551</td>\n",
       "    </tr>\n",
       "    <tr>\n",
       "      <th>5</th>\n",
       "      <td>-0.342335</td>\n",
       "      <td>2.062030</td>\n",
       "      <td>-0.904619</td>\n",
       "      <td>-0.831944</td>\n",
       "    </tr>\n",
       "    <tr>\n",
       "      <th>6</th>\n",
       "      <td>-1.171147</td>\n",
       "      <td>0.744622</td>\n",
       "      <td>-1.048773</td>\n",
       "      <td>-0.938248</td>\n",
       "    </tr>\n",
       "    <tr>\n",
       "      <th>7</th>\n",
       "      <td>-0.756741</td>\n",
       "      <td>0.744622</td>\n",
       "      <td>-1.000722</td>\n",
       "      <td>-1.044551</td>\n",
       "    </tr>\n",
       "    <tr>\n",
       "      <th>8</th>\n",
       "      <td>-1.378350</td>\n",
       "      <td>-0.572786</td>\n",
       "      <td>-1.048773</td>\n",
       "      <td>-1.044551</td>\n",
       "    </tr>\n",
       "    <tr>\n",
       "      <th>9</th>\n",
       "      <td>-0.860343</td>\n",
       "      <td>-0.045823</td>\n",
       "      <td>-1.000722</td>\n",
       "      <td>-1.150855</td>\n",
       "    </tr>\n",
       "    <tr>\n",
       "      <th>10</th>\n",
       "      <td>-0.342335</td>\n",
       "      <td>1.535067</td>\n",
       "      <td>-1.000722</td>\n",
       "      <td>-1.044551</td>\n",
       "    </tr>\n",
       "    <tr>\n",
       "      <th>11</th>\n",
       "      <td>0.797281</td>\n",
       "      <td>-0.309305</td>\n",
       "      <td>1.065487</td>\n",
       "      <td>1.081527</td>\n",
       "    </tr>\n",
       "    <tr>\n",
       "      <th>12</th>\n",
       "      <td>1.936898</td>\n",
       "      <td>-0.309305</td>\n",
       "      <td>1.449898</td>\n",
       "      <td>0.975223</td>\n",
       "    </tr>\n",
       "    <tr>\n",
       "      <th>13</th>\n",
       "      <td>-0.860343</td>\n",
       "      <td>-1.626713</td>\n",
       "      <td>0.440819</td>\n",
       "      <td>0.550007</td>\n",
       "    </tr>\n",
       "    <tr>\n",
       "      <th>14</th>\n",
       "      <td>1.626093</td>\n",
       "      <td>-0.572786</td>\n",
       "      <td>1.305744</td>\n",
       "      <td>0.656311</td>\n",
       "    </tr>\n",
       "    <tr>\n",
       "      <th>15</th>\n",
       "      <td>1.004484</td>\n",
       "      <td>-1.626713</td>\n",
       "      <td>1.065487</td>\n",
       "      <td>0.656311</td>\n",
       "    </tr>\n",
       "    <tr>\n",
       "      <th>16</th>\n",
       "      <td>1.522492</td>\n",
       "      <td>1.271585</td>\n",
       "      <td>1.209641</td>\n",
       "      <td>1.400438</td>\n",
       "    </tr>\n",
       "    <tr>\n",
       "      <th>17</th>\n",
       "      <td>0.797281</td>\n",
       "      <td>0.217659</td>\n",
       "      <td>0.729127</td>\n",
       "      <td>0.868919</td>\n",
       "    </tr>\n",
       "    <tr>\n",
       "      <th>18</th>\n",
       "      <td>0.693680</td>\n",
       "      <td>-1.099749</td>\n",
       "      <td>0.825230</td>\n",
       "      <td>0.762615</td>\n",
       "    </tr>\n",
       "    <tr>\n",
       "      <th>19</th>\n",
       "      <td>1.108086</td>\n",
       "      <td>-0.309305</td>\n",
       "      <td>0.921333</td>\n",
       "      <td>0.975223</td>\n",
       "    </tr>\n",
       "    <tr>\n",
       "      <th>20</th>\n",
       "      <td>-0.031531</td>\n",
       "      <td>-1.626713</td>\n",
       "      <td>0.681076</td>\n",
       "      <td>0.868919</td>\n",
       "    </tr>\n",
       "    <tr>\n",
       "      <th>21</th>\n",
       "      <td>0.072071</td>\n",
       "      <td>-0.836268</td>\n",
       "      <td>0.729127</td>\n",
       "      <td>1.294135</td>\n",
       "    </tr>\n",
       "    <tr>\n",
       "      <th>22</th>\n",
       "      <td>0.693680</td>\n",
       "      <td>0.217659</td>\n",
       "      <td>0.825230</td>\n",
       "      <td>1.187831</td>\n",
       "    </tr>\n",
       "  </tbody>\n",
       "</table>\n",
       "</div>"
      ],
      "text/plain": [
       "    sepal_length  sepal_width  petal_length  petal_width\n",
       "0      -0.653140     1.008104     -1.048773    -1.044551\n",
       "1      -0.860343    -0.309305     -1.048773    -1.044551\n",
       "2      -1.067546     0.217659     -1.096825    -1.044551\n",
       "3      -1.171147    -0.045823     -1.000722    -1.044551\n",
       "4      -0.756741     1.271585     -1.048773    -1.044551\n",
       "5      -0.342335     2.062030     -0.904619    -0.831944\n",
       "6      -1.171147     0.744622     -1.048773    -0.938248\n",
       "7      -0.756741     0.744622     -1.000722    -1.044551\n",
       "8      -1.378350    -0.572786     -1.048773    -1.044551\n",
       "9      -0.860343    -0.045823     -1.000722    -1.150855\n",
       "10     -0.342335     1.535067     -1.000722    -1.044551\n",
       "11      0.797281    -0.309305      1.065487     1.081527\n",
       "12      1.936898    -0.309305      1.449898     0.975223\n",
       "13     -0.860343    -1.626713      0.440819     0.550007\n",
       "14      1.626093    -0.572786      1.305744     0.656311\n",
       "15      1.004484    -1.626713      1.065487     0.656311\n",
       "16      1.522492     1.271585      1.209641     1.400438\n",
       "17      0.797281     0.217659      0.729127     0.868919\n",
       "18      0.693680    -1.099749      0.825230     0.762615\n",
       "19      1.108086    -0.309305      0.921333     0.975223\n",
       "20     -0.031531    -1.626713      0.681076     0.868919\n",
       "21      0.072071    -0.836268      0.729127     1.294135\n",
       "22      0.693680     0.217659      0.825230     1.187831"
      ]
     },
     "execution_count": 33,
     "metadata": {},
     "output_type": "execute_result"
    }
   ],
   "source": [
    "new_data_processed"
   ]
  },
  {
   "cell_type": "code",
   "execution_count": null,
   "id": "ecb7aeee-16a9-47d8-a419-1a1f4d8381f9",
   "metadata": {},
   "outputs": [],
   "source": []
  },
  {
   "cell_type": "code",
   "execution_count": 34,
   "id": "30fc498d-540e-4754-864c-2eac45551f24",
   "metadata": {},
   "outputs": [],
   "source": [
    "import joblib\n",
    "\n",
    "# Load the trained model\n",
    "model = joblib.load('iris_trained_model.pkl')  # Replace with your model file path\n"
   ]
  },
  {
   "cell_type": "code",
   "execution_count": 35,
   "id": "63e2623e-907b-4c7e-b5ff-0a832de2ef53",
   "metadata": {},
   "outputs": [
    {
     "data": {
      "text/plain": [
       "LogisticRegression()"
      ]
     },
     "execution_count": 35,
     "metadata": {},
     "output_type": "execute_result"
    }
   ],
   "source": [
    "model"
   ]
  },
  {
   "cell_type": "code",
   "execution_count": 36,
   "id": "bd2c6720-61ba-4a2e-8cd5-20c3895495fb",
   "metadata": {},
   "outputs": [],
   "source": [
    "# Use the loaded model to make predictions on the preprocessed new data\n",
    "predictions = model.predict(new_data_processed)\n",
    "\n",
    "# The 'predictions' variable now contains the predicted labels (e.g., Churn_Yes or Churn_No) for the new data.\n"
   ]
  },
  {
   "cell_type": "code",
   "execution_count": 37,
   "id": "01db075f-1ccc-45ed-933a-d16dcd6e2e33",
   "metadata": {},
   "outputs": [
    {
     "data": {
      "text/plain": [
       "array([0, 0, 0, 0, 0, 0, 0, 0, 0, 0, 0, 0, 0, 0, 0, 0, 0, 0, 0, 0, 0, 0,\n",
       "       0])"
      ]
     },
     "execution_count": 37,
     "metadata": {},
     "output_type": "execute_result"
    }
   ],
   "source": [
    "predictions"
   ]
  },
  {
   "cell_type": "code",
   "execution_count": null,
   "id": "25d4a6b2-80f9-45de-942b-f37b0e03c53e",
   "metadata": {},
   "outputs": [],
   "source": []
  },
  {
   "cell_type": "code",
   "execution_count": null,
   "id": "5dd6087f-e547-479e-97ff-e4d4457c9f7d",
   "metadata": {},
   "outputs": [],
   "source": []
  }
 ],
 "metadata": {
  "kernelspec": {
   "display_name": "Python 3 (ipykernel)",
   "language": "python",
   "name": "python3"
  },
  "language_info": {
   "codemirror_mode": {
    "name": "ipython",
    "version": 3
   },
   "file_extension": ".py",
   "mimetype": "text/x-python",
   "name": "python",
   "nbconvert_exporter": "python",
   "pygments_lexer": "ipython3",
   "version": "3.10.11"
  }
 },
 "nbformat": 4,
 "nbformat_minor": 5
}
